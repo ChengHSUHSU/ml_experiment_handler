{
 "cells": [
  {
   "cell_type": "code",
   "execution_count": null,
   "id": "9d46f40f-087b-47c3-a7de-8d08e6a7e4c9",
   "metadata": {},
   "outputs": [],
   "source": [
    "'''\n",
    "1. parameter setting (save in local)\n",
    "2. load dataset (optional : saving)\n",
    "3. data preprocess (optional : saving)\n",
    "4. modeling (optional: deliver to gcs OR DINHandler(default))\n",
    "5. evaluation \n",
    "'''"
   ]
  },
  {
   "cell_type": "code",
   "execution_count": null,
   "id": "a33c06aa-78c9-4bfc-bd50-08b6c77bd9df",
   "metadata": {},
   "outputs": [],
   "source": []
  },
  {
   "cell_type": "code",
   "execution_count": 2,
   "id": "fa9fbccf-945c-49f0-886f-de9b75301b41",
   "metadata": {},
   "outputs": [],
   "source": [
    "import sys\n",
    "sys.path.insert(0, 'work_dev/modeling/')\n",
    "global_path = 'work_dev/modeling'"
   ]
  },
  {
   "cell_type": "code",
   "execution_count": 3,
   "id": "778470ad-3ccb-49e8-947e-6791556e2412",
   "metadata": {},
   "outputs": [],
   "source": [
    "# load dataset\n",
    "download_dataset_from_gcs = False\n",
    "load_dataset_from_local = True\n",
    "# execute data preprocess\n",
    "save_preprocessed_data = False\n",
    "load_preprocessed_data = True\n",
    "# config, train_params\n",
    "cfg_dump_path = f'{global_path}/show_u2i/config/din_standard.pickle'\n",
    "\n",
    "# raw daataset\n",
    "raw_dataset_path = f'{global_path}/show_u2i/dataset/raw_dataset_RUNTIME.pickle'\n",
    "\n",
    "# preprocessed data  (save / load)\n",
    "preprocessed_data_load_path = f'{global_path}/show_u2i/dataset/din_standard.pickle'\n",
    "preprocessed_data_save_path = f'{global_path}/show_u2i/dataset/din_standard.pickle'\n",
    "\n",
    "# run_time\n",
    "run_time = '20230310'"
   ]
  },
  {
   "cell_type": "code",
   "execution_count": 4,
   "id": "0ca1b0f0-cde3-46ef-bba4-48f8f16f9bff",
   "metadata": {},
   "outputs": [],
   "source": [
    "# base_option\n",
    "opt_dataset_blob_path = f'dataset/show/user2item/{run_time}'\n",
    "opt_dataset = 'dataset.pickle'\n",
    "opt_project_id = 'bf-data-prod-001'\n",
    "opt_checkpoints_dir = 'checkpoints'\n",
    "opt_experiment_name = 'test'\n",
    "# general_config\n",
    "COL2CATS_NAMES = 'col2label.pickle'\n",
    "raw_dataset_path = raw_dataset_path.replace('RUNTIME', run_time)"
   ]
  },
  {
   "cell_type": "code",
   "execution_count": 4,
   "id": "97225177-a8a1-4e97-93a6-c3592fa9b947",
   "metadata": {},
   "outputs": [],
   "source": [
    "# auto-argument\n",
    "bucket_storage = f'machine-learning-models-{opt_project_id}'\n",
    "base_path = f'{opt_checkpoints_dir}/{opt_experiment_name}'\n",
    "if raw_dataset_path:\n",
    "    opt_dataroot = '/'.join(raw_dataset_path.split('/')[:-1])\n",
    "    raw_dataset_name = raw_dataset_path.split('/')[-1]\n",
    "else:\n",
    "    print('opt_dataroot not exist.')"
   ]
  },
  {
   "cell_type": "code",
   "execution_count": 33,
   "id": "a0109fb1-c373-4aa4-8385-4fffea002c25",
   "metadata": {},
   "outputs": [],
   "source": [
    "# load config\n",
    "import pickle\n",
    "with open(cfg_dump_path, 'rb') as f:\n",
    "    all_cfg = pickle.load(f)\n",
    "config = all_cfg['config']\n",
    "train_params = all_cfg['train_params']\n",
    "train_params['dataroot'] = opt_dataroot"
   ]
  },
  {
   "cell_type": "code",
   "execution_count": 5,
   "id": "ad1af87f-7ae8-4720-93d0-c0dc70229c4d",
   "metadata": {},
   "outputs": [],
   "source": [
    "def data_preprocess_func(dataset, config, train_params):\n",
    "    dataset = convert_columns_name(dataset, config)\n",
    "    dataset = handle_missing_data(dataset, config)\n",
    "    dataset = convert_data_type(dataset, config, mode='train')\n",
    "    dataset = process_age(dataset, columns=['age'], age_range=20)\n",
    "    dataset = process_category(dataset, config)\n",
    "    dataset = aggregate_preference(dataset, config, mode='train')\n",
    "    dataset, col2label2idx_new = encode_features(dataset, \n",
    "                                                 config, \n",
    "                                                 train_params, \n",
    "                                                 col2label2idx={}, \n",
    "                                                 mode='train')\n",
    "    dataset = process_time_period(dataset, time_type=['min', 'hour'], postfix='_time_period')\n",
    "    dataset = process_normalize_data(dataset, config)\n",
    "    dataset = process_user_behavior_sequence(dataset, config, col2label2idx_new)\n",
    "    return dataset, col2label2idx_new"
   ]
  },
  {
   "cell_type": "code",
   "execution_count": null,
   "id": "5d7dcf50-c724-4bb3-8e41-d87d6f360c08",
   "metadata": {},
   "outputs": [],
   "source": []
  },
  {
   "cell_type": "code",
   "execution_count": 6,
   "id": "c3d40f23-9ddc-4c30-8060-b0aaf8acfea2",
   "metadata": {},
   "outputs": [
    {
     "name": "stderr",
     "output_type": "stream",
     "text": [
      "2023-03-31 14:46:46.993007: I tensorflow/core/platform/cpu_feature_guard.cc:193] This TensorFlow binary is optimized with oneAPI Deep Neural Network Library (oneDNN) to use the following CPU instructions in performance-critical operations:  AVX2 FMA\n",
      "To enable them in other operations, rebuild TensorFlow with the appropriate compiler flags.\n",
      "2023-03-31 14:46:48.316338: W tensorflow/compiler/xla/stream_executor/platform/default/dso_loader.cc:64] Could not load dynamic library 'libnvinfer.so.7'; dlerror: libnvinfer.so.7: cannot open shared object file: No such file or directory\n",
      "2023-03-31 14:46:48.316478: W tensorflow/compiler/xla/stream_executor/platform/default/dso_loader.cc:64] Could not load dynamic library 'libnvinfer_plugin.so.7'; dlerror: libnvinfer_plugin.so.7: cannot open shared object file: No such file or directory\n",
      "2023-03-31 14:46:48.316490: W tensorflow/compiler/tf2tensorrt/utils/py_utils.cc:38] TF-TRT Warning: Cannot dlopen some TensorRT libraries. If you would like to use Nvidia GPU with TensorRT, please make sure the missing libraries mentioned above are installed properly.\n"
     ]
    }
   ],
   "source": [
    "from model_handler.din_handler import DINHandler"
   ]
  },
  {
   "cell_type": "code",
   "execution_count": 7,
   "id": "60297f39-3401-47ad-9f6f-57c4d0eab029",
   "metadata": {},
   "outputs": [],
   "source": [
    "from data_utils.processor import *\n",
    "from data_utils.load import read_pickle, download_blob"
   ]
  },
  {
   "cell_type": "code",
   "execution_count": 8,
   "id": "15f0451b-597a-4986-92d5-5f07c7a8bcf9",
   "metadata": {},
   "outputs": [
    {
     "name": "stdout",
     "output_type": "stream",
     "text": [
      "Starting load dataset from local.....\n"
     ]
    }
   ],
   "source": [
    "'''\n",
    "---LOAD DATASET AND META-DATA---\n",
    "'''\n",
    "file_to_download = [(opt_dataset, raw_dataset_name), (COL2CATS_NAMES, COL2CATS_NAMES)]\n",
    "\n",
    "if download_dataset_from_gcs is True:\n",
    "    for file, d_file in file_to_download:\n",
    "        download_blob(bucket_name=bucket_storage,\n",
    "                      source_blob_name=f'{opt_dataset_blob_path}/{base_path}/{file}',\n",
    "                      destination_file_name=f'{opt_dataroot}/{d_file}')\n",
    "if load_dataset_from_local is True:\n",
    "    print('Starting load dataset from local.....')\n",
    "    dataset = read_pickle(file_name='dataset.pickle', base_path=opt_dataroot)\n",
    "    all_cats = read_pickle(file_name=COL2CATS_NAMES, base_path=opt_dataroot)"
   ]
  },
  {
   "cell_type": "code",
   "execution_count": 9,
   "id": "ee8826ab-6468-4e6e-924c-4252474d4f80",
   "metadata": {},
   "outputs": [
    {
     "data": {
      "text/plain": [
       "Index(['userid', 'uuid', 'timestamp', 'date', 'hour', 'age', 'gender',\n",
       "       'gamapay_used', 'title', 'final_score', '1_last_day_total_view_count',\n",
       "       '1_last_day_total_click_count', '1_last_day_interaction_count',\n",
       "       '3_last_day_total_view_count', '3_last_day_total_click_count',\n",
       "       '5_last_day_total_view_count', '5_last_day_total_click_count',\n",
       "       '5_last_day_interaction_count', 'user_category', 'user_title_embedding',\n",
       "       'is_adult', 'publish_time', 'cat0', 'content_ner',\n",
       "       'item_title_embedding', 'y', 'planet_news_used', 'planet_comic_used',\n",
       "       'planet_novel_used', 'backpack_used', 'game_used', 'shopping_used',\n",
       "       'gash_used', 'club_user_category', 'club_user_title_embedding'],\n",
       "      dtype='object')"
      ]
     },
     "execution_count": 9,
     "metadata": {},
     "output_type": "execute_result"
    }
   ],
   "source": [
    "# show dataset\n",
    "dataset.columns"
   ]
  },
  {
   "cell_type": "code",
   "execution_count": 11,
   "id": "2f614c0d-3626-43b4-812a-6c59dd0be53b",
   "metadata": {},
   "outputs": [
    {
     "name": "stdout",
     "output_type": "stream",
     "text": [
      "starting convert_columns_name...\n",
      "starting handle_missing_data...\n"
     ]
    },
    {
     "data": {
      "application/vnd.jupyter.widget-view+json": {
       "model_id": "1312a150c1c04555bf4c39bb4265b54e",
       "version_major": 2,
       "version_minor": 0
      },
      "text/plain": [
       "Pandas Apply:   0%|          | 0/265135 [00:00<?, ?it/s]"
      ]
     },
     "metadata": {},
     "output_type": "display_data"
    },
    {
     "data": {
      "application/vnd.jupyter.widget-view+json": {
       "model_id": "97601e6b8bff4868aed4b04b2d5b23a6",
       "version_major": 2,
       "version_minor": 0
      },
      "text/plain": [
       "Pandas Apply:   0%|          | 0/265135 [00:00<?, ?it/s]"
      ]
     },
     "metadata": {},
     "output_type": "display_data"
    },
    {
     "name": "stdout",
     "output_type": "stream",
     "text": [
      "starting convert_data_type...\n"
     ]
    },
    {
     "data": {
      "application/vnd.jupyter.widget-view+json": {
       "model_id": "a1e5f5cad7c643c9986192fd1ba06dd7",
       "version_major": 2,
       "version_minor": 0
      },
      "text/plain": [
       "Pandas Apply:   0%|          | 0/265135 [00:00<?, ?it/s]"
      ]
     },
     "metadata": {},
     "output_type": "display_data"
    },
    {
     "data": {
      "application/vnd.jupyter.widget-view+json": {
       "model_id": "3103dafaea7f4aca87faa634e2e99b34",
       "version_major": 2,
       "version_minor": 0
      },
      "text/plain": [
       "Pandas Apply:   0%|          | 0/265135 [00:00<?, ?it/s]"
      ]
     },
     "metadata": {},
     "output_type": "display_data"
    },
    {
     "data": {
      "application/vnd.jupyter.widget-view+json": {
       "model_id": "7f82df6cc6264e198501c22b5551d45c",
       "version_major": 2,
       "version_minor": 0
      },
      "text/plain": [
       "Pandas Apply:   0%|          | 0/265135 [00:00<?, ?it/s]"
      ]
     },
     "metadata": {},
     "output_type": "display_data"
    },
    {
     "name": "stdout",
     "output_type": "stream",
     "text": [
      "starting process_age...\n"
     ]
    },
    {
     "data": {
      "application/vnd.jupyter.widget-view+json": {
       "model_id": "b29262b4c89f424fa03b797912e1a86f",
       "version_major": 2,
       "version_minor": 0
      },
      "text/plain": [
       "Pandas Apply:   0%|          | 0/265135 [00:00<?, ?it/s]"
      ]
     },
     "metadata": {},
     "output_type": "display_data"
    },
    {
     "name": "stdout",
     "output_type": "stream",
     "text": [
      "starting process_category...\n"
     ]
    },
    {
     "data": {
      "application/vnd.jupyter.widget-view+json": {
       "model_id": "e1e9980f14334b5e932901d172c0b57f",
       "version_major": 2,
       "version_minor": 0
      },
      "text/plain": [
       "Pandas Apply:   0%|          | 0/265135 [00:00<?, ?it/s]"
      ]
     },
     "metadata": {},
     "output_type": "display_data"
    },
    {
     "name": "stdout",
     "output_type": "stream",
     "text": [
      "---start aggregate_preference---\n"
     ]
    },
    {
     "data": {
      "application/vnd.jupyter.widget-view+json": {
       "model_id": "c2e0d899d15b4b9ab0d6b79f74429563",
       "version_major": 2,
       "version_minor": 0
      },
      "text/plain": [
       "Pandas Apply:   0%|          | 0/265135 [00:00<?, ?it/s]"
      ]
     },
     "metadata": {},
     "output_type": "display_data"
    },
    {
     "name": "stdout",
     "output_type": "stream",
     "text": [
      "---start encode_features---\n",
      "all_cats :  dict_keys(['cat0'])\n",
      "---start process_time_period---\n",
      "---start process_normalize_data---\n"
     ]
    },
    {
     "data": {
      "application/vnd.jupyter.widget-view+json": {
       "model_id": "1028b72164494bc1a41e9789e1089348",
       "version_major": 2,
       "version_minor": 0
      },
      "text/plain": [
       "Pandas Apply:   0%|          | 0/265135 [00:00<?, ?it/s]"
      ]
     },
     "metadata": {},
     "output_type": "display_data"
    },
    {
     "name": "stdout",
     "output_type": "stream",
     "text": [
      "---start process_user_behavior_sequence---\n"
     ]
    }
   ],
   "source": [
    "# save / load preprocessed data \n",
    "if load_preprocessed_data is False:\n",
    "    dataset, col2label2idx_new = data_preprocess_func(dataset, config, train_params)\n",
    "else:\n",
    "    print('Starting load preprocessed data......')\n",
    "    with open(preprocessed_data_load_path, 'rb') as f:\n",
    "        prepreprocess_data = pickle.load(f)\n",
    "    dataset = prepreprocess_data['dataset']\n",
    "    col2label2idx_new = prepreprocess_data['col2label2idx_new']\n",
    "if save_preprocessed_data and preprocessed_data_save_path:\n",
    "    prepreprocess_data = {\n",
    "        'dataset': dataset, \n",
    "        'col2label2idx_new': col2label2idx_new\n",
    "    }\n",
    "    with open(preprocessed_data_save_path, 'wb') as f:\n",
    "        pickle.dump(prepreprocess_data, f)\n",
    "else:\n",
    "    print('dont save dataset or dataset_dump_path not exist.')"
   ]
  },
  {
   "cell_type": "code",
   "execution_count": 14,
   "id": "f807a3a0-47f2-4315-8e8a-469f0b5dc48b",
   "metadata": {},
   "outputs": [],
   "source": []
  },
  {
   "cell_type": "code",
   "execution_count": 34,
   "id": "0a3b0db5-83d5-4f06-93cd-8cf67f92637e",
   "metadata": {},
   "outputs": [],
   "source": [
    "# evaluation\n",
    "import random\n",
    "import numpy as np\n",
    "\n",
    "dat = dataset\n",
    "train_rate = 0.8\n",
    "\n",
    "data_size = dat.shape[0]\n",
    "train_size = int(data_size * train_rate)\n",
    "val_size = data_size - train_size\n",
    "data_index = random.sample([i for i in range(data_size)], data_size)\n",
    "train_index = data_index[:train_size]\n",
    "val_index = data_index[train_size:]"
   ]
  },
  {
   "cell_type": "code",
   "execution_count": 35,
   "id": "a4e0fad2-da60-4731-bb09-afb019691842",
   "metadata": {},
   "outputs": [],
   "source": [
    "train_y = dat[['y']].iloc[train_index]\n",
    "val_y = dat[['y']].iloc[val_index]\n",
    "train_x = dat.iloc[train_index]\n",
    "val_x = dat.iloc[val_index]"
   ]
  },
  {
   "cell_type": "code",
   "execution_count": 36,
   "id": "b69220e5-c3fa-4996-8136-837f1fbf3752",
   "metadata": {},
   "outputs": [
    {
     "name": "stdout",
     "output_type": "stream",
     "text": [
      "cpu\n",
      "Train on 212108 samples, validate on 0 samples, 829 steps per epoch\n"
     ]
    },
    {
     "name": "stderr",
     "output_type": "stream",
     "text": [
      "829it [00:11, 70.14it/s]\n"
     ]
    },
    {
     "name": "stdout",
     "output_type": "stream",
     "text": [
      "Epoch 1/10\n",
      "11s - loss:  0.2549 - binary_crossentropy:  0.1732\n"
     ]
    },
    {
     "name": "stderr",
     "output_type": "stream",
     "text": [
      "829it [00:12, 65.27it/s]\n"
     ]
    },
    {
     "name": "stdout",
     "output_type": "stream",
     "text": [
      "Epoch 2/10\n",
      "12s - loss:  0.0994 - binary_crossentropy:  0.0995\n"
     ]
    },
    {
     "name": "stderr",
     "output_type": "stream",
     "text": [
      "829it [00:11, 73.55it/s]\n"
     ]
    },
    {
     "name": "stdout",
     "output_type": "stream",
     "text": [
      "Epoch 3/10\n",
      "11s - loss:  0.0963 - binary_crossentropy:  0.0963\n"
     ]
    },
    {
     "name": "stderr",
     "output_type": "stream",
     "text": [
      "829it [00:11, 70.44it/s]\n"
     ]
    },
    {
     "name": "stdout",
     "output_type": "stream",
     "text": [
      "Epoch 4/10\n",
      "11s - loss:  0.0941 - binary_crossentropy:  0.0941\n"
     ]
    },
    {
     "name": "stderr",
     "output_type": "stream",
     "text": [
      "829it [00:11, 71.02it/s]\n"
     ]
    },
    {
     "name": "stdout",
     "output_type": "stream",
     "text": [
      "Epoch 5/10\n",
      "11s - loss:  0.0920 - binary_crossentropy:  0.0920\n"
     ]
    },
    {
     "name": "stderr",
     "output_type": "stream",
     "text": [
      "829it [00:11, 70.41it/s]\n"
     ]
    },
    {
     "name": "stdout",
     "output_type": "stream",
     "text": [
      "Epoch 6/10\n",
      "11s - loss:  0.0903 - binary_crossentropy:  0.0903\n"
     ]
    },
    {
     "name": "stderr",
     "output_type": "stream",
     "text": [
      "829it [00:11, 72.87it/s]\n"
     ]
    },
    {
     "name": "stdout",
     "output_type": "stream",
     "text": [
      "Epoch 7/10\n",
      "11s - loss:  0.0891 - binary_crossentropy:  0.0891\n"
     ]
    },
    {
     "name": "stderr",
     "output_type": "stream",
     "text": [
      "829it [00:11, 72.86it/s]\n"
     ]
    },
    {
     "name": "stdout",
     "output_type": "stream",
     "text": [
      "Epoch 8/10\n",
      "11s - loss:  0.0879 - binary_crossentropy:  0.0879\n"
     ]
    },
    {
     "name": "stderr",
     "output_type": "stream",
     "text": [
      "829it [00:13, 63.03it/s]\n"
     ]
    },
    {
     "name": "stdout",
     "output_type": "stream",
     "text": [
      "Epoch 9/10\n",
      "13s - loss:  0.0870 - binary_crossentropy:  0.0870\n"
     ]
    },
    {
     "name": "stderr",
     "output_type": "stream",
     "text": [
      "829it [00:11, 70.33it/s]"
     ]
    },
    {
     "name": "stdout",
     "output_type": "stream",
     "text": [
      "Epoch 10/10\n",
      "11s - loss:  0.0863 - binary_crossentropy:  0.0863\n"
     ]
    },
    {
     "name": "stderr",
     "output_type": "stream",
     "text": [
      "\n"
     ]
    },
    {
     "data": {
      "text/plain": [
       "<tensorflow.python.keras.callbacks.History at 0x7fa84c9bd700>"
      ]
     },
     "execution_count": 36,
     "metadata": {},
     "output_type": "execute_result"
    }
   ],
   "source": [
    "# train\n",
    "model_handler = DINHandler(col2label2idx=col2label2idx_new,\n",
    "                           config=config,\n",
    "                           mode='train',\n",
    "                           **train_params)\n",
    "model_handler.train(x_train=train_x, y_train=train_y, train_params=train_params)"
   ]
  },
  {
   "cell_type": "code",
   "execution_count": 37,
   "id": "a47f205d-f24c-495e-af2b-0d838536c1aa",
   "metadata": {},
   "outputs": [],
   "source": [
    "val_y_pred = model_handler.predict(val_x).reshape(-1)"
   ]
  },
  {
   "cell_type": "code",
   "execution_count": 38,
   "id": "1f7d142d-662c-4c26-a497-a03837030909",
   "metadata": {},
   "outputs": [
    {
     "name": "stdout",
     "output_type": "stream",
     "text": [
      "precision :  0.7724329324699353\n",
      "recall :  0.5533465871438038\n",
      "f1 :  0.6447876447876448\n",
      "auc :  0.9685319929357713\n"
     ]
    }
   ],
   "source": [
    "from eval_utils.get_metrics import get_overall_metrics, get_average_metrics\n",
    "metric_type_list = ['precision', 'recall', 'f1', 'auc', 'roc_curve']\n",
    "over_all_metrics = get_overall_metrics(val_y, val_y_pred, metric_type_list)\n",
    "for metrics in metric_type_list[:-1]:\n",
    "    score = over_all_metrics[metrics]\n",
    "    if isinstance(score, float):\n",
    "        print(f'{metrics} : ', score)\n",
    "    else:\n",
    "        print(f'{metrics} : ', score[-1])"
   ]
  },
  {
   "cell_type": "code",
   "execution_count": 39,
   "id": "89ea0245-1bb6-49bd-b1c5-b02eda999546",
   "metadata": {},
   "outputs": [
    {
     "name": "stderr",
     "output_type": "stream",
     "text": [
      "/tmp/ipykernel_11228/2460681298.py:1: SettingWithCopyWarning: \n",
      "A value is trying to be set on a copy of a slice from a DataFrame.\n",
      "Try using .loc[row_indexer,col_indexer] = value instead\n",
      "\n",
      "See the caveats in the documentation: https://pandas.pydata.org/pandas-docs/stable/user_guide/indexing.html#returning-a-view-versus-a-copy\n",
      "  val_x['y_pred'] = val_y_pred\n"
     ]
    },
    {
     "name": "stdout",
     "output_type": "stream",
     "text": [
      "NDCG@K=5 :  0.2637508888624586\n",
      "NDCG@K=10 :  0.2658301301969786\n",
      "NDCG@K=15 :  0.2665214737862511\n",
      "NDCG@K=20 :  0.2666796518436062\n"
     ]
    }
   ],
   "source": [
    "val_x['y_pred'] = val_y_pred\n",
    "val_x_ = val_x.rename(columns={'y': 'y_true'})\n",
    "for k in [5,10,15,20]:\n",
    "    score = get_average_metrics(df=val_x_,\n",
    "                         k=k,\n",
    "                         metric_type='ndcg',\n",
    "                         groupby_key='userid')\n",
    "    print(f'NDCG@K={str(k)} : ', score)"
   ]
  },
  {
   "cell_type": "code",
   "execution_count": null,
   "id": "770581b8-8e01-4eea-8429-8135a259215a",
   "metadata": {},
   "outputs": [],
   "source": []
  },
  {
   "cell_type": "code",
   "execution_count": null,
   "id": "f698dd24-c3df-4475-841e-9ea48af188e2",
   "metadata": {},
   "outputs": [],
   "source": []
  },
  {
   "cell_type": "code",
   "execution_count": null,
   "id": "97502be8-60fa-463f-8793-1f02d8cef4a2",
   "metadata": {},
   "outputs": [],
   "source": []
  },
  {
   "cell_type": "code",
   "execution_count": null,
   "id": "d951d9ab-8b5a-4f19-8b72-f9516c4fd903",
   "metadata": {},
   "outputs": [],
   "source": []
  }
 ],
 "metadata": {
  "kernelspec": {
   "display_name": "Python 3",
   "language": "python",
   "name": "python3"
  },
  "language_info": {
   "codemirror_mode": {
    "name": "ipython",
    "version": 3
   },
   "file_extension": ".py",
   "mimetype": "text/x-python",
   "name": "python",
   "nbconvert_exporter": "python",
   "pygments_lexer": "ipython3",
   "version": "3.8.15"
  }
 },
 "nbformat": 4,
 "nbformat_minor": 5
}
