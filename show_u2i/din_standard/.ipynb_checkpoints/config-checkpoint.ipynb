{
 "cells": [
  {
   "cell_type": "code",
   "execution_count": null,
   "id": "14c5d9d8-f65f-410c-8afc-fdf5bdae3c16",
   "metadata": {},
   "outputs": [],
   "source": [
    "import sys\n",
    "sys.path.insert(0, 'work_dev/modeling/')\n",
    "global_path = 'work_dev/modeling'"
   ]
  },
  {
   "cell_type": "code",
   "execution_count": 12,
   "id": "c4948d04-4163-4746-bebc-f6163a8b4f70",
   "metadata": {},
   "outputs": [],
   "source": [
    "#\n",
    "UNKNOWN_LABEL = 'unknown'\n",
    "# user behavior\n",
    "BEHAVIOR_FEATURE = ['cat0']\n",
    "BEHAVIOR_FEATURE_SEQ_LENGTH = ['seq_length_cat0']\n",
    "BEHAVIOR_SEQUENCE_SIZE = 5\n",
    "# one hot\n",
    "ONE_HOT_FEATURE = ['age', 'gender', 'cat0']\n",
    "FEATURE_EMBEDDING_SIZE = {'age': 6, 'gender': 2, 'cat0': 32}\n",
    "#ONE_HOT_FEATURE = [ 'cat0']\n",
    "#FEATURE_EMBEDDING_SIZE = { 'cat0': 32}\n",
    "# dense\n",
    "DENSE_FEATURE = [\n",
    "    'cat0_pref_score', 'hour_time_period', 'popularity_score', \n",
    "    '1_last_day_total_view_count', '1_last_day_total_click_count',\n",
    "    '3_last_day_total_view_count', '3_last_day_total_click_count',\n",
    "    '5_last_day_total_view_count', '5_last_day_total_click_count', \n",
    "    'user_title_embedding', 'item_title_embedding'\n",
    "]\n",
    "DENSE_FEATURE_SIZE = {\n",
    "    'cat0_pref_score': 1, 'hour_time_period': 1, 'popularity_score': 1,\n",
    "    '1_last_day_total_view_count': 1, '1_last_day_total_click_count': 1,\n",
    "    '3_last_day_total_view_count': 1, '3_last_day_total_click_count': 1,\n",
    "    '5_last_day_total_view_count': 1, '5_last_day_total_click_count': 1,  \n",
    "    'user_title_embedding': 300, 'item_title_embedding': 300\n",
    "}\n",
    "COLUMN_TO_RENAME = {'final_score': 'popularity_score'}\n",
    "COLUMN_TO_FILLNA = {\n",
    "        'gender': UNKNOWN_LABEL,\n",
    "        'user_category': '{}',\n",
    "        'cat0': '[]',\n",
    "        'user_title_embedding': [0.0] * 300,\n",
    "        'item_title_embedding': [0.0] * 300,\n",
    "        'popularity_score': -1.0,\n",
    "        '1_last_day_total_view_count': -1.0, \n",
    "        '1_last_day_total_click_count': -1.0,\n",
    "        '3_last_day_total_view_count': -1.0, \n",
    "        '3_last_day_total_click_count': -1.0,\n",
    "        '5_last_day_total_view_count': -1.0,\n",
    "        '5_last_day_total_click_count': -1.0\n",
    "}\n",
    "TYPE_CONVERT_MODE2COLS_INFERENCE = {\n",
    "        'ast': ['cat0', 'user_title_embedding', 'item_title_embedding'],\n",
    "\n",
    "        'int64': ['publish_time', 'timestamp',\n",
    "                  '1_last_day_total_view_count', '1_last_day_total_click_count',\n",
    "                  '3_last_day_total_view_count', '3_last_day_total_click_count',\n",
    "                  '5_last_day_total_view_count', '5_last_day_total_click_count',\n",
    "                  'popularity_score'],\n",
    "        'float': ['popularity_score']\n",
    "}\n",
    "TYPE_CONVERT_MODE2COLS = {\n",
    "        'ast': ['cat0', 'user_title_embedding', 'item_title_embedding'],\n",
    "\n",
    "        'int64': ['publish_time', 'timestamp',\n",
    "                  '1_last_day_total_view_count', '1_last_day_total_click_count',\n",
    "                  '3_last_day_total_view_count', '3_last_day_total_click_count',\n",
    "                  '5_last_day_total_view_count', '5_last_day_total_click_count'],\n",
    "        'float': ['popularity_score']\n",
    "}\n",
    "CATEGORY_COLS = ['cat0']\n",
    "CATEGORY_PREF_SCORE_PROCESS = [\n",
    "    {'level': ['click', 'cat0'], \n",
    "     'cat_col': 'user_category', \n",
    "     'score_col': 'cat0_pref_score'}\n",
    "]\n",
    "TAG_PREF_SCORE_PROCESS = [{'score_col': ''}]\n",
    "COL2CATS_NAMES = 'col2label.pickle'\n",
    "CATEGORY_FEATURES_PROCESS = {\n",
    "    'age': [False, True, 'LabelEncoding'],\n",
    "    'gender': [False, True, 'LabelEncoding'],\n",
    "    'cat0': [True, True, 'LabelEncoding']\n",
    "}\n",
    "BEHAVIOR_SEQUENCE_SIZE = 5\n",
    "BEHAVIOR_SEQUENCE_FEATURES_PROCESS = {\n",
    "    'user_category': [['cat0', 'click', 'cat0', 'hist_', 'seq_length_']]\n",
    "}\n",
    "NORMALIZE_COLS = {\n",
    "    'min-max': {'hour_time_period': 30 * 24},\n",
    "    'z-score': {}\n",
    "}\n",
    "REQUISITE_COLS = [\n",
    "    'userid'\n",
    "    'popularity_score','cat0_pref_score', \n",
    "    'hour_time_period', 'seq_length_cat0', 'hist_cat0',\n",
    "    'gender', 'age','cat0',\n",
    "    'user_title_embedding', 'item_title_embedding',\n",
    "    '1_last_day_total_view_count', '1_last_day_total_click_count',\n",
    "    '3_last_day_total_view_count', '3_last_day_total_click_count',\n",
    "    '5_last_day_total_view_count', '5_last_day_total_click_count', 'y'\n",
    "]"
   ]
  },
  {
   "cell_type": "code",
   "execution_count": 13,
   "id": "a6bf9e5c-3059-4be7-a711-97a123f4014e",
   "metadata": {},
   "outputs": [],
   "source": [
    "config = {\n",
    "    'BEHAVIOR_FEATURE': BEHAVIOR_FEATURE,\n",
    "    'BEHAVIOR_FEATURE_SEQ_LENGTH': BEHAVIOR_FEATURE_SEQ_LENGTH,\n",
    "    'BEHAVIOR_SEQUENCE_SIZE': BEHAVIOR_SEQUENCE_SIZE,\n",
    "    'ONE_HOT_FEATURE': ONE_HOT_FEATURE,\n",
    "    'FEATURE_EMBEDDING_SIZE': FEATURE_EMBEDDING_SIZE,\n",
    "    'DENSE_FEATURE': DENSE_FEATURE,\n",
    "    'DENSE_FEATURE_SIZE': DENSE_FEATURE_SIZE,\n",
    "    'COLUMN_TO_RENAME': COLUMN_TO_RENAME,\n",
    "    'COLUMN_TO_FILLNA': COLUMN_TO_FILLNA,\n",
    "    'TYPE_CONVERT_MODE2COLS_INFERENCE': TYPE_CONVERT_MODE2COLS_INFERENCE,\n",
    "    'TYPE_CONVERT_MODE2COLS': TYPE_CONVERT_MODE2COLS,\n",
    "    'CATEGORY_COLS': CATEGORY_COLS,\n",
    "    'CATEGORY_PREF_SCORE_PROCESS': CATEGORY_PREF_SCORE_PROCESS,\n",
    "    'TAG_PREF_SCORE_PROCESS': TAG_PREF_SCORE_PROCESS,\n",
    "    'COL2CATS_NAMES': COL2CATS_NAMES,\n",
    "    'CATEGORY_FEATURES_PROCESS': CATEGORY_FEATURES_PROCESS,\n",
    "    'BEHAVIOR_SEQUENCE_SIZE': BEHAVIOR_SEQUENCE_SIZE,\n",
    "    'BEHAVIOR_SEQUENCE_FEATURES_PROCESS': BEHAVIOR_SEQUENCE_FEATURES_PROCESS,\n",
    "    'NORMALIZE_COLS': NORMALIZE_COLS,\n",
    "    'REQUISITE_COLS': REQUISITE_COLS\n",
    "}"
   ]
  },
  {
   "cell_type": "code",
   "execution_count": 14,
   "id": "ab1f5f72-ac40-4145-889c-0e5c384e3ee5",
   "metadata": {},
   "outputs": [],
   "source": [
    "device = 'cpu'\n",
    "optimizer = 'adagrad'\n",
    "objective_function = 'binary_crossentropy'\n",
    "metrics = ['binary_crossentropy']\n",
    "'''\n",
    "    dnn_use_bn=False,\n",
    "                 dnn_hidden_units=(256, 128), dnn_activation='relu', att_hidden_size=(64, 16),\n",
    "                 att_activation='Dice', att_weight_normalization=False, l2_reg_dnn=0.0,\n",
    "                 l2_reg_embedding=1e-6, dnn_dropout=0, init_std=0.0001,\n",
    "                 seed=1024, task='binary', device='cpu', gpus=None, **kwargs):\n",
    "'''\n",
    "train_params = {\n",
    "    'device': device,\n",
    "    'optimizer': optimizer,\n",
    "    'objective_function': objective_function,\n",
    "    'metrics': metrics\n",
    "}"
   ]
  },
  {
   "cell_type": "code",
   "execution_count": null,
   "id": "4f8e175b-237c-4833-8080-1d19344e0b08",
   "metadata": {},
   "outputs": [],
   "source": []
  },
  {
   "cell_type": "code",
   "execution_count": null,
   "id": "063c80c5-fa92-48da-b778-ea7109d29b35",
   "metadata": {},
   "outputs": [],
   "source": []
  },
  {
   "cell_type": "code",
   "execution_count": 15,
   "id": "494850d6-6ad3-476e-88a7-6371593a33e8",
   "metadata": {},
   "outputs": [],
   "source": [
    "# dump path\n",
    "content_type = 'show_u2i'\n",
    "model_name = 'din_standard'\n",
    "dump_path = f'{global_path}/{content_type}/config/{model_name}.pickle'"
   ]
  },
  {
   "cell_type": "code",
   "execution_count": 16,
   "id": "a521f5b1-b3a6-47b5-9835-f1e07813a1e3",
   "metadata": {},
   "outputs": [],
   "source": [
    "import pickle\n",
    "all_cfg = {\n",
    "    'config': config, \n",
    "    'train_params': train_params\n",
    "}\n",
    "# pickle a variable to a file\n",
    "with open(dump_path, 'wb') as f:\n",
    "    pickle.dump(all_cfg, f)"
   ]
  },
  {
   "cell_type": "code",
   "execution_count": 17,
   "id": "d1224ea5-a423-4ac3-831d-eb61e9c58d20",
   "metadata": {},
   "outputs": [
    {
     "data": {
      "text/plain": [
       "'work_dev/modeling/show_u2i/config/din_standard.pickle'"
      ]
     },
     "execution_count": 17,
     "metadata": {},
     "output_type": "execute_result"
    }
   ],
   "source": [
    "# config path\n",
    "dump_path"
   ]
  },
  {
   "cell_type": "code",
   "execution_count": 18,
   "id": "657f6191-8f7b-4374-aae8-5ff67e7d57ee",
   "metadata": {},
   "outputs": [
    {
     "name": "stdout",
     "output_type": "stream",
     "text": [
      "/\n"
     ]
    }
   ],
   "source": []
  },
  {
   "cell_type": "code",
   "execution_count": 19,
   "id": "97e09380-0974-4a42-93fd-509222787e28",
   "metadata": {},
   "outputs": [
    {
     "name": "stdout",
     "output_type": "stream",
     "text": [
      "{'config': {'BEHAVIOR_FEATURE': ['cat0'], 'BEHAVIOR_FEATURE_SEQ_LENGTH': ['seq_length_cat0'], 'BEHAVIOR_SEQUENCE_SIZE': 5, 'ONE_HOT_FEATURE': ['age', 'gender', 'cat0'], 'FEATURE_EMBEDDING_SIZE': {'age': 6, 'gender': 2, 'cat0': 32}, 'DENSE_FEATURE': ['cat0_pref_score', 'hour_time_period', 'popularity_score', '1_last_day_total_view_count', '1_last_day_total_click_count', '3_last_day_total_view_count', '3_last_day_total_click_count', '5_last_day_total_view_count', '5_last_day_total_click_count', 'user_title_embedding', 'item_title_embedding'], 'DENSE_FEATURE_SIZE': {'cat0_pref_score': 1, 'hour_time_period': 1, 'popularity_score': 1, '1_last_day_total_view_count': 1, '1_last_day_total_click_count': 1, '3_last_day_total_view_count': 1, '3_last_day_total_click_count': 1, '5_last_day_total_view_count': 1, '5_last_day_total_click_count': 1, 'user_title_embedding': 300, 'item_title_embedding': 300}, 'COLUMN_TO_RENAME': {'final_score': 'popularity_score'}, 'COLUMN_TO_FILLNA': {'gender': 'unknown', 'user_category': '{}', 'cat0': '[]', 'user_title_embedding': [0.0, 0.0, 0.0, 0.0, 0.0, 0.0, 0.0, 0.0, 0.0, 0.0, 0.0, 0.0, 0.0, 0.0, 0.0, 0.0, 0.0, 0.0, 0.0, 0.0, 0.0, 0.0, 0.0, 0.0, 0.0, 0.0, 0.0, 0.0, 0.0, 0.0, 0.0, 0.0, 0.0, 0.0, 0.0, 0.0, 0.0, 0.0, 0.0, 0.0, 0.0, 0.0, 0.0, 0.0, 0.0, 0.0, 0.0, 0.0, 0.0, 0.0, 0.0, 0.0, 0.0, 0.0, 0.0, 0.0, 0.0, 0.0, 0.0, 0.0, 0.0, 0.0, 0.0, 0.0, 0.0, 0.0, 0.0, 0.0, 0.0, 0.0, 0.0, 0.0, 0.0, 0.0, 0.0, 0.0, 0.0, 0.0, 0.0, 0.0, 0.0, 0.0, 0.0, 0.0, 0.0, 0.0, 0.0, 0.0, 0.0, 0.0, 0.0, 0.0, 0.0, 0.0, 0.0, 0.0, 0.0, 0.0, 0.0, 0.0, 0.0, 0.0, 0.0, 0.0, 0.0, 0.0, 0.0, 0.0, 0.0, 0.0, 0.0, 0.0, 0.0, 0.0, 0.0, 0.0, 0.0, 0.0, 0.0, 0.0, 0.0, 0.0, 0.0, 0.0, 0.0, 0.0, 0.0, 0.0, 0.0, 0.0, 0.0, 0.0, 0.0, 0.0, 0.0, 0.0, 0.0, 0.0, 0.0, 0.0, 0.0, 0.0, 0.0, 0.0, 0.0, 0.0, 0.0, 0.0, 0.0, 0.0, 0.0, 0.0, 0.0, 0.0, 0.0, 0.0, 0.0, 0.0, 0.0, 0.0, 0.0, 0.0, 0.0, 0.0, 0.0, 0.0, 0.0, 0.0, 0.0, 0.0, 0.0, 0.0, 0.0, 0.0, 0.0, 0.0, 0.0, 0.0, 0.0, 0.0, 0.0, 0.0, 0.0, 0.0, 0.0, 0.0, 0.0, 0.0, 0.0, 0.0, 0.0, 0.0, 0.0, 0.0, 0.0, 0.0, 0.0, 0.0, 0.0, 0.0, 0.0, 0.0, 0.0, 0.0, 0.0, 0.0, 0.0, 0.0, 0.0, 0.0, 0.0, 0.0, 0.0, 0.0, 0.0, 0.0, 0.0, 0.0, 0.0, 0.0, 0.0, 0.0, 0.0, 0.0, 0.0, 0.0, 0.0, 0.0, 0.0, 0.0, 0.0, 0.0, 0.0, 0.0, 0.0, 0.0, 0.0, 0.0, 0.0, 0.0, 0.0, 0.0, 0.0, 0.0, 0.0, 0.0, 0.0, 0.0, 0.0, 0.0, 0.0, 0.0, 0.0, 0.0, 0.0, 0.0, 0.0, 0.0, 0.0, 0.0, 0.0, 0.0, 0.0, 0.0, 0.0, 0.0, 0.0, 0.0, 0.0, 0.0, 0.0, 0.0, 0.0, 0.0, 0.0, 0.0, 0.0, 0.0, 0.0, 0.0, 0.0, 0.0, 0.0, 0.0, 0.0, 0.0, 0.0, 0.0, 0.0, 0.0, 0.0, 0.0, 0.0, 0.0, 0.0, 0.0, 0.0, 0.0, 0.0, 0.0], 'item_title_embedding': [0.0, 0.0, 0.0, 0.0, 0.0, 0.0, 0.0, 0.0, 0.0, 0.0, 0.0, 0.0, 0.0, 0.0, 0.0, 0.0, 0.0, 0.0, 0.0, 0.0, 0.0, 0.0, 0.0, 0.0, 0.0, 0.0, 0.0, 0.0, 0.0, 0.0, 0.0, 0.0, 0.0, 0.0, 0.0, 0.0, 0.0, 0.0, 0.0, 0.0, 0.0, 0.0, 0.0, 0.0, 0.0, 0.0, 0.0, 0.0, 0.0, 0.0, 0.0, 0.0, 0.0, 0.0, 0.0, 0.0, 0.0, 0.0, 0.0, 0.0, 0.0, 0.0, 0.0, 0.0, 0.0, 0.0, 0.0, 0.0, 0.0, 0.0, 0.0, 0.0, 0.0, 0.0, 0.0, 0.0, 0.0, 0.0, 0.0, 0.0, 0.0, 0.0, 0.0, 0.0, 0.0, 0.0, 0.0, 0.0, 0.0, 0.0, 0.0, 0.0, 0.0, 0.0, 0.0, 0.0, 0.0, 0.0, 0.0, 0.0, 0.0, 0.0, 0.0, 0.0, 0.0, 0.0, 0.0, 0.0, 0.0, 0.0, 0.0, 0.0, 0.0, 0.0, 0.0, 0.0, 0.0, 0.0, 0.0, 0.0, 0.0, 0.0, 0.0, 0.0, 0.0, 0.0, 0.0, 0.0, 0.0, 0.0, 0.0, 0.0, 0.0, 0.0, 0.0, 0.0, 0.0, 0.0, 0.0, 0.0, 0.0, 0.0, 0.0, 0.0, 0.0, 0.0, 0.0, 0.0, 0.0, 0.0, 0.0, 0.0, 0.0, 0.0, 0.0, 0.0, 0.0, 0.0, 0.0, 0.0, 0.0, 0.0, 0.0, 0.0, 0.0, 0.0, 0.0, 0.0, 0.0, 0.0, 0.0, 0.0, 0.0, 0.0, 0.0, 0.0, 0.0, 0.0, 0.0, 0.0, 0.0, 0.0, 0.0, 0.0, 0.0, 0.0, 0.0, 0.0, 0.0, 0.0, 0.0, 0.0, 0.0, 0.0, 0.0, 0.0, 0.0, 0.0, 0.0, 0.0, 0.0, 0.0, 0.0, 0.0, 0.0, 0.0, 0.0, 0.0, 0.0, 0.0, 0.0, 0.0, 0.0, 0.0, 0.0, 0.0, 0.0, 0.0, 0.0, 0.0, 0.0, 0.0, 0.0, 0.0, 0.0, 0.0, 0.0, 0.0, 0.0, 0.0, 0.0, 0.0, 0.0, 0.0, 0.0, 0.0, 0.0, 0.0, 0.0, 0.0, 0.0, 0.0, 0.0, 0.0, 0.0, 0.0, 0.0, 0.0, 0.0, 0.0, 0.0, 0.0, 0.0, 0.0, 0.0, 0.0, 0.0, 0.0, 0.0, 0.0, 0.0, 0.0, 0.0, 0.0, 0.0, 0.0, 0.0, 0.0, 0.0, 0.0, 0.0, 0.0, 0.0, 0.0, 0.0, 0.0, 0.0, 0.0, 0.0, 0.0, 0.0, 0.0, 0.0, 0.0, 0.0, 0.0, 0.0, 0.0, 0.0, 0.0, 0.0, 0.0, 0.0, 0.0, 0.0, 0.0, 0.0, 0.0, 0.0, 0.0], 'popularity_score': -1.0, '1_last_day_total_view_count': -1.0, '1_last_day_total_click_count': -1.0, '3_last_day_total_view_count': -1.0, '3_last_day_total_click_count': -1.0, '5_last_day_total_view_count': -1.0, '5_last_day_total_click_count': -1.0}, 'TYPE_CONVERT_MODE2COLS_INFERENCE': {'ast': ['cat0', 'user_title_embedding', 'item_title_embedding'], 'int64': ['publish_time', 'timestamp', '1_last_day_total_view_count', '1_last_day_total_click_count', '3_last_day_total_view_count', '3_last_day_total_click_count', '5_last_day_total_view_count', '5_last_day_total_click_count', 'popularity_score'], 'float': ['popularity_score']}, 'TYPE_CONVERT_MODE2COLS': {'ast': ['cat0', 'user_title_embedding', 'item_title_embedding'], 'int64': ['publish_time', 'timestamp', '1_last_day_total_view_count', '1_last_day_total_click_count', '3_last_day_total_view_count', '3_last_day_total_click_count', '5_last_day_total_view_count', '5_last_day_total_click_count'], 'float': ['popularity_score']}, 'CATEGORY_COLS': ['cat0'], 'CATEGORY_PREF_SCORE_PROCESS': [{'level': ['click', 'cat0'], 'cat_col': 'user_category', 'score_col': 'cat0_pref_score'}], 'TAG_PREF_SCORE_PROCESS': [{'score_col': ''}], 'COL2CATS_NAMES': 'col2label.pickle', 'CATEGORY_FEATURES_PROCESS': {'age': [False, True, 'LabelEncoding'], 'gender': [False, True, 'LabelEncoding'], 'cat0': [True, True, 'LabelEncoding']}, 'BEHAVIOR_SEQUENCE_FEATURES_PROCESS': {'user_category': [['cat0', 'click', 'cat0', 'hist_', 'seq_length_']]}, 'NORMALIZE_COLS': {'min-max': {'hour_time_period': 720}, 'z-score': {}}, 'REQUISITE_COLS': ['useridpopularity_score', 'cat0_pref_score', 'hour_time_period', 'seq_length_cat0', 'hist_cat0', 'gender', 'age', 'cat0', 'user_title_embedding', 'item_title_embedding', '1_last_day_total_view_count', '1_last_day_total_click_count', '3_last_day_total_view_count', '3_last_day_total_click_count', '5_last_day_total_view_count', '5_last_day_total_click_count', 'y']}, 'train_params': {'device': 'cpu', 'optimizer': 'adagrad', 'objective_function': 'binary_crossentropy', 'metrics': ['binary_crossentropy']}}\n"
     ]
    }
   ],
   "source": [
    "with open(dump_path, 'rb') as file:\n",
    "    a_dict1 = pickle.load(file)\n",
    "\n",
    "print(a_dict1)"
   ]
  },
  {
   "cell_type": "code",
   "execution_count": null,
   "id": "abd80861-61fe-47ad-8b7d-c7875e988462",
   "metadata": {},
   "outputs": [],
   "source": []
  }
 ],
 "metadata": {
  "kernelspec": {
   "display_name": "Python 3",
   "language": "python",
   "name": "python3"
  },
  "language_info": {
   "codemirror_mode": {
    "name": "ipython",
    "version": 3
   },
   "file_extension": ".py",
   "mimetype": "text/x-python",
   "name": "python",
   "nbconvert_exporter": "python",
   "pygments_lexer": "ipython3",
   "version": "3.8.15"
  }
 },
 "nbformat": 4,
 "nbformat_minor": 5
}
